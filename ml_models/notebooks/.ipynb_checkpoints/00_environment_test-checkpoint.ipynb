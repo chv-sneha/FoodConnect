{
 "cells": [
  {
   "cell_type": "markdown",
   "metadata": {},
   "source": [
    "# Environment Setup Test\n",
    "This notebook tests if all required libraries are installed correctly."
   ]
  },
  {
   "cell_type": "code",
   "execution_count": null,
   "metadata": {},
   "outputs": [],
   "source": [
    "# Test core libraries\n",
    "import pandas as pd\n",
    "import numpy as np\n",
    "import matplotlib.pyplot as plt\n",
    "import seaborn as sns\n",
    "from sklearn import __version__ as sklearn_version\n",
    "import tensorflow as tf\n",
    "import xgboost as xgb\n",
    "\n",
    "print(\"✅ All libraries imported successfully!\")\n",
    "print(f\"Pandas: {pd.__version__}\")\n",
    "print(f\"NumPy: {np.__version__}\")\n",
    "print(f\"Scikit-learn: {sklearn_version}\")\n",
    "print(f\"TensorFlow: {tf.__version__}\")\n",
    "print(f\"XGBoost: {xgb.__version__}\")"
   ]
  },
  {
   "cell_type": "code",
   "execution_count": null,
   "metadata": {},
   "outputs": [],
   "source": [
    "# Test basic functionality\n",
    "# Create sample data\n",
    "data = pd.DataFrame({\n",
    "    'ingredient': ['sugar', 'salt', 'vitamin_c'],\n",
    "    'toxicity_score': [75, 70, 10]\n",
    "})\n",
    "\n",
    "print(\"Sample Data:\")\n",
    "print(data)\n",
    "\n",
    "# Test plotting\n",
    "plt.figure(figsize=(8, 5))\n",
    "plt.bar(data['ingredient'], data['toxicity_score'])\n",
    "plt.title('Sample Toxicity Scores')\n",
    "plt.ylabel('Toxicity Score')\n",
    "plt.show()\n",
    "\n",
    "print(\"✅ Environment setup complete!\")"
   ]
  }
 ],
 "metadata": {
  "kernelspec": {
   "display_name": "Python 3",
   "language": "python",
   "name": "python3"
  },
  "language_info": {
   "codemirror_mode": {
    "name": "ipython",
    "version": 3
   },
   "file_extension": ".py",
   "mimetype": "text/x-python",
   "name": "python",
   "nbconvert_exporter": "python",
   "pygments_lexer": "ipython3",
   "version": "3.8.0"
  }
 },
 "nbformat": 4,
 "nbformat_minor": 4
}